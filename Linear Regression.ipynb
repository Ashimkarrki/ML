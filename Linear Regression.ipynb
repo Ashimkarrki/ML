{
 "cells": [
  {
   "cell_type": "code",
   "execution_count": 2,
   "id": "b6e4cef3",
   "metadata": {},
   "outputs": [],
   "source": [
    "import math, copy\n",
    "import numpy as np\n",
    "import matplotlib.pyplot as plt\n"
   ]
  },
  {
   "cell_type": "code",
   "execution_count": 132,
   "id": "d64fdf2d",
   "metadata": {},
   "outputs": [],
   "source": [
    "train_x=np.array([[1],[2],[3],[4],[5]]);\n",
    "train_y=np.array([200,300,400,500,600]);\n",
    "p=np.array([0,0]) # add new 0 to the p with each new features added to the train_x"
   ]
  },
  {
   "cell_type": "code",
   "execution_count": 6,
   "id": "82ac5d94",
   "metadata": {},
   "outputs": [],
   "source": [
    "def cost_func(x,y,p):\n",
    "    n=y.shape[0];\n",
    "    cost=0;\n",
    "    for i in range(n):\n",
    "        h=np.matmul(x[i],np.transpose(p[0:p.shape[0]-1]))+p[-1];\n",
    "        cost=cost+1/2*(h-y[i])**2;\n",
    "    return cost;\n",
    "        \n"
   ]
  },
  {
   "cell_type": "code",
   "execution_count": 151,
   "id": "4ed18f58",
   "metadata": {},
   "outputs": [],
   "source": [
    "def prediction(x,y,p):\n",
    "    n=y.shape[0];\n",
    "    for i in range(n):\n",
    "        h=np.matmul(x[i],np.transpose(p[0:p.shape[0]-1]))+p[-1];\n",
    "        print(h,\"==\",y[i]);\n",
    "    "
   ]
  },
  {
   "cell_type": "code",
   "execution_count": null,
   "id": "bdc967f9",
   "metadata": {},
   "outputs": [],
   "source": []
  },
  {
   "cell_type": "code",
   "execution_count": 152,
   "id": "df5495a7",
   "metadata": {},
   "outputs": [],
   "source": [
    "def gradient_func(x,y,p,iteration,rate):\n",
    "    n=y.shape[0];\n",
    "    for q in range(iteration):\n",
    "        temp=y-np.array([(np.matmul(x[i],np.transpose(p[0:p.shape[0]-1]))+p[-1]) for i in range(n)])\n",
    "        temp2=np.matmul(temp,np.array([np.append(i,1) for i in train_x]))\n",
    "        p=p+rate*temp2/n\n",
    "    return p;\n"
   ]
  },
  {
   "cell_type": "code",
   "execution_count": 155,
   "id": "c5e9661e",
   "metadata": {},
   "outputs": [
    {
     "name": "stdout",
     "output_type": "stream",
     "text": [
      "Before Training  6.462348535570529e-26\n",
      "After Training  6.462348535570529e-26\n",
      "Parameters  [100. 100.]\n"
     ]
    }
   ],
   "source": [
    "\n",
    "print(\"Before Training \" ,cost_func(train_x,train_y,p))\n",
    "p=gradient_func(train_x,train_y,p,10000,0.1)\n",
    "print(\"After Training \" ,cost_func(train_x,train_y,p))\n",
    "print(\"Parameters \",p)"
   ]
  },
  {
   "cell_type": "code",
   "execution_count": 156,
   "id": "738a5a10",
   "metadata": {},
   "outputs": [
    {
     "name": "stdout",
     "output_type": "stream",
     "text": [
      "199.99999999999972 == 200\n",
      "299.99999999999983 == 300\n",
      "399.99999999999994 == 400\n",
      "500.00000000000006 == 500\n",
      "600.0000000000001 == 600\n"
     ]
    }
   ],
   "source": [
    "prediction(train_x,train_y,p)\n"
   ]
  },
  {
   "cell_type": "code",
   "execution_count": 158,
   "id": "8e437560",
   "metadata": {},
   "outputs": [
    {
     "ename": "SyntaxError",
     "evalue": "invalid syntax (3827820173.py, line 1)",
     "output_type": "error",
     "traceback": [
      "\u001b[0;36m  Cell \u001b[0;32mIn[158], line 1\u001b[0;36m\u001b[0m\n\u001b[0;31m    git add .\u001b[0m\n\u001b[0m        ^\u001b[0m\n\u001b[0;31mSyntaxError\u001b[0m\u001b[0;31m:\u001b[0m invalid syntax\n"
     ]
    }
   ],
   "source": [
    "git add ."
   ]
  },
  {
   "cell_type": "code",
   "execution_count": null,
   "id": "519868b6",
   "metadata": {},
   "outputs": [],
   "source": []
  },
  {
   "cell_type": "code",
   "execution_count": null,
   "id": "b9c6366f",
   "metadata": {},
   "outputs": [],
   "source": []
  },
  {
   "cell_type": "code",
   "execution_count": null,
   "id": "acb49474",
   "metadata": {},
   "outputs": [],
   "source": []
  }
 ],
 "metadata": {
  "kernelspec": {
   "display_name": "Python 3 (ipykernel)",
   "language": "python",
   "name": "python3"
  },
  "language_info": {
   "codemirror_mode": {
    "name": "ipython",
    "version": 3
   },
   "file_extension": ".py",
   "mimetype": "text/x-python",
   "name": "python",
   "nbconvert_exporter": "python",
   "pygments_lexer": "ipython3",
   "version": "3.10.12"
  }
 },
 "nbformat": 4,
 "nbformat_minor": 5
}
